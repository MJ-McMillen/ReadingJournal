{
 "cells": [
  {
   "cell_type": "markdown",
   "metadata": {},
   "source": [
    "# Day 1 Reading Journal\n",
    "\n",
    "Hi everyone.  These are the exercises for the first set of readings from ThinkPython.  While this journal consists of several required exercises, it is meant to encourage active reading more generally.  You should use this journal to take detailed notes, catalog questions, and explore the content from ThinkPython deeply.\n",
    "\n",
    "For more information on using the Jupyter notebook, check out the documentation [here](https://www.datacamp.com/community/tutorials/tutorial-jupyter-notebook##UseJupyter).\n",
    "\n",
    "Additionally, in order to write text in this document, you will be making use of Markdown cells. A handy cheatsheet for Markdown is available [here](https://github.com/adam-p/markdown-here/wiki/Markdown-Cheatsheet)."
   ]
  },
  {
   "cell_type": "markdown",
   "metadata": {},
   "source": [
    "## Chapter 1\n",
    "\n",
    "Note: the exercise numbers below match up with the reading for ease of cross referencing.\n",
    "\n",
    "   ### 1.1 What  is a program\n",
    "A **Program** is a sequence of instructions that specify how to preform a **Computation** \n",
    "\n",
    "A **Computation** can be math, like solving a system of equations or finding the root of a polynomial, but it can also by **Symbolic Computation** such as searching and replacing text in a document or something graphical like processing an image or playing a video.\n",
    "\n",
    "#### Basic instructions - all there is to it. \n",
    "+ **input**: Get some data! rom keyboard, file, network or somewhere\n",
    "+ **output**: Do something with data! ie.Display data, save it, send it\n",
    "+ **math**: be a calculator. Basic math like add, subtract, mult, div\n",
    "+ **Conditional execition**: Do something only if a condition is met.\n",
    "+ ** Repition**: Preform some action multiple times. \n",
    "\n",
    "   ### 1.2 Running Python\n",
    "There are two types of python Python 2 and Python 3\n",
    "\n",
    "A Python **Interpreter** reads and executes Python code. Depending on envoirnment, interpreter can be started different ways like clicking on an icon or ** typing Python into the command line**\n",
    "\n",
    "You type code in after ** >>> ***\n",
    "\n",
    "    \n",
    "   ### 1.3 The First program\n",
    "   \n",
    "A program that prints Hello World in python 3\n",
    "```\n",
    ">>> print('Hello, World!')\n",
    "\n",
    "```\n",
    "+ The **Quotations** signify **text**\n",
    "+ The **Parentheses** indicate that print is a **function**\n",
    "    \n",
    "    \n",
    "   ### 1.4 Arithmetic\n",
    "   \n",
    "   Python provides **Operators** that help us do math \n",
    "   \n",
    "- **+** is for addition\n",
    "+ **-** is for subtraction\n",
    "+ ** * ** is for multiplication\n",
    "+ ** / ** is for division\n",
    "+ ** ** ** is for exponents\n",
    "\n",
    "DO NOT USE ^ FOR EXPONENTS\n",
    "\n",
    "   ### 1.5 Values and types\n",
    "   \n",
    "   A **Value** is one of the basic things that a program works with like a letter or a number. \n",
    "   \n",
    "   These Values belong to different **Types**. Types are how values or groupings of values are classified. \n",
    "\n",
    "+ **INterger** A number without a decimal like 2\n",
    "+ **Floating-Point Number** A number with a decimal like 42.0\n",
    "+ **String** A bunch of characters strung together. \n",
    "\n",
    "If a float or an int are in quotes, its considered a string. \n",
    "\n",
    "To see what type or **Class** a value is, simple type \n",
    "\n",
    "``` \n",
    ">>> type(2)\n",
    "< class 'int'>\n",
    "\n",
    ">>> type(42.0)\n",
    "< class 'float'>\n",
    "\n",
    ">>> type('Hello')\n",
    "< class 'str'>\n",
    "\n",
    ">>> type('234')\n",
    "< class 'str'>\n",
    "\n",
    "```\n",
    "Do not type numbers like 1,000,000 using commas! It will become (1,0,0)\n",
    "\n",
    "It would be a comma seperated sequence of ints. \n",
    "\n",
    "   ### 1.6 Formal and Natural Languages. \n",
    "\n",
    "**Natural Languages** are languages people speal like Engilish. They were not designed by people. They evolve naturally\n",
    "   \n",
    "**Formal Languages** are designed by people for specific applications like math and programming\n",
    "   \n",
    "**Syntax**\n",
    "\n",
    "+ **Tokens**- characters and basic elements like words and numbers\n",
    "+ **Combination of Tokens** - the rules that govern how these tokens may be combined. \n",
    "\n",
    "When you read a sentance in english or formal language and you subconsiously have to figue out the structure this is called **parsing**\n",
    "\n",
    "   ### 1.7 Debbugging\n",
    "   \n",
    "**Debugging** is the process of tracking down bugs. Do not get emotional when debugging\n",
    "\n"
   ]
  },
  {
   "cell_type": "markdown",
   "metadata": {},
   "source": [
    "### Exercise 1.4\n",
    "\n",
    "Start the Python interpreter and use it as a simple calculator. Python’s syntax for math operations is almost the same as standard mathematical notation. For example, the symbols +, - and / denote addition, subtraction and division, as you would expect. The symbol for multiplication is *\n",
    "\n",
    "* How many seconds are there in 42 minutes 42 seconds?\n",
    "* How many miles are there in 10 kilometers? Hint: there are 1.61 kilometers in a mile.\n",
    "* If you run a 10 kilometer race in 42 minutes 42 seconds, what is your average pace (time per mile in minutes and seconds)? What is your average speed in miles per hour?\n",
    "\n",
    "Please use the following markdown cell to provide your answers."
   ]
  },
  {
   "cell_type": "code",
   "execution_count": 3,
   "metadata": {
    "collapsed": false,
    "scrolled": false
   },
   "outputs": [
    {
     "data": {
      "text/plain": [
       "2562"
      ]
     },
     "execution_count": 3,
     "metadata": {},
     "output_type": "execute_result"
    }
   ],
   "source": [
    ">>> (42*60)+42"
   ]
  },
  {
   "cell_type": "code",
   "execution_count": 4,
   "metadata": {
    "collapsed": false,
    "scrolled": true
   },
   "outputs": [
    {
     "data": {
      "text/plain": [
       "6.211180124223602"
      ]
     },
     "execution_count": 4,
     "metadata": {},
     "output_type": "execute_result"
    }
   ],
   "source": [
    ">>> 10/1.61"
   ]
  },
  {
   "cell_type": "code",
   "execution_count": 7,
   "metadata": {
    "collapsed": false
   },
   "outputs": [
    {
     "data": {
      "text/plain": [
       "6.874700000000001"
      ]
     },
     "execution_count": 7,
     "metadata": {},
     "output_type": "execute_result"
    }
   ],
   "source": [
    ">>> (((42*60)+42)/(10/1.61))/60"
   ]
  },
  {
   "cell_type": "code",
   "execution_count": 8,
   "metadata": {
    "collapsed": false
   },
   "outputs": [
    {
     "data": {
      "text/plain": [
       "0.11457833333333335"
      ]
     },
     "execution_count": 8,
     "metadata": {},
     "output_type": "execute_result"
    }
   ],
   "source": [
    ">>> 6.874700000000001 / 60"
   ]
  },
  {
   "cell_type": "markdown",
   "metadata": {},
   "source": []
  },
  {
   "cell_type": "markdown",
   "metadata": {},
   "source": [
    "## Chapter 2\n",
    "\n",
    "### 2.1 Assignment statements\n",
    "\n",
    "An **assignment statement** creates a new variable and gives it a value. \n",
    "\n",
    "*ex.* message = 'And now for something completely different'\n",
    "*ex.* n = 17\n",
    "*ex.* pi = 3.14\n",
    "\n",
    "### 2.2 Variable Names\n",
    "\n",
    "Variables **can** ...\n",
    "+ be as long as you like \n",
    "+ use upper case letters\n",
    "+ combine letters and numbers \n",
    "\n",
    "Variabls **cannot**...\n",
    "+ start with a number\n",
    "+ contain an illigal charracter like @\n",
    "+ be one of python's keywords. \n",
    "\n",
    "### 2.3 Expressions and Statements \n",
    "\n",
    "An **Expression** is a combination of values, variables, and opperators. A value or a Variable is considered an expression all by itself. An interpreter **evaluates** expressions. *ex.* if n = 17 and I type n+25 into the interpreter, I will get 42. This is an expression.\n",
    "\n",
    "A **Statement** is a unit of code that has an effect like creating a variable or displaying a value. like print(n) or n = 17. An interpreter **executes** Statements. \n",
    "\n",
    "### 2.4 Script Mode. \n",
    "\n",
    "**Interactive Mode**- When you run python and directly interact with the interpreter. It can be clumsy if you are working with more than a few lines of code. \n",
    "\n",
    "**Script Mode** - When you execute a prewritten script. Python scripts have the extention .py\n",
    "\n",
    "### 2.5 Order of opperations\n",
    "\n",
    "Python follows PEMDAS (please excuse my dear aunt Sally) rules. \n",
    "\n",
    "### 2.6 String opperations\n",
    "\n",
    "You cannot do traditional opperations on strings. EXCEPT * and +\n",
    "\n",
    "**+** preformes **String Concatenation**. It joins the strings by linking them end-to-end.\n",
    "\n",
    "The * preforms **Repitition** 'String' * 3 is 'StringStringString'\n",
    "\n",
    "### 2.7 Comments\n",
    "\n",
    "The # is used to comment. \n"
   ]
  },
  {
   "cell_type": "markdown",
   "metadata": {},
   "source": [
    "### Exercise\n",
    "\n",
    "Assume that we execute the following assignment statements:\n",
    "\n",
    "```\n",
    "width = 17\n",
    "height = 12.0\n",
    "delimiter = '.'\n",
    "```\n",
    "\n",
    "For each of the following expressions, write the value of the expression and the type (of the value of the expression).\n",
    "\n",
    "Example: `width * 2` <br/>\n",
    "Answer: 34, integer\n",
    "\n",
    "1. `width/2`\n",
    "2. `width/2.0`\n",
    "3. `height/3`\n",
    "4. `1 + 2 * 5`\n",
    "5. `delimiter * 5`\n",
    "\n",
    "Please use the following markdown cell to provide your answer."
   ]
  },
  {
   "cell_type": "code",
   "execution_count": 9,
   "metadata": {
    "collapsed": false
   },
   "outputs": [
    {
     "name": "stdout",
     "output_type": "stream",
     "text": [
      "8.5 int\n",
      "8.5 float\n",
      "4.0 float\n",
      "11 int\n",
      "..... str\n"
     ]
    }
   ],
   "source": [
    "width = 17\n",
    "height = 12.0\n",
    "delimiter = '.'\n",
    "\n",
    "one = width/2\n",
    "print(one,'int')\n",
    "\n",
    "two = width / 2.0\n",
    "print(two,'float')\n",
    "\n",
    "three = height/3\n",
    "print(three, 'float')\n",
    "\n",
    "four = 1+2*5\n",
    "print(four, 'int')\n",
    "\n",
    "five = delimiter*5\n",
    "print(five,'str')\n",
    "\n"
   ]
  },
  {
   "cell_type": "markdown",
   "metadata": {},
   "source": []
  },
  {
   "cell_type": "markdown",
   "metadata": {},
   "source": [
    "### Exercise 2.2\n",
    "\n",
    "Practice using the Python interpreter as a calculator.  For each of these provide Python code that computes each answer."
   ]
  },
  {
   "cell_type": "markdown",
   "metadata": {},
   "source": [
    "The volume of a sphere with radius r is $4/3 \\pi  r^3$. What is the volume of a sphere with radius 5? <br />\n",
    "Hint: 392.7 is wrong! You can approximate pi with 3.14 or import it through the Python math library."
   ]
  },
  {
   "cell_type": "code",
   "execution_count": 10,
   "metadata": {
    "collapsed": false
   },
   "outputs": [
    {
     "name": "stdout",
     "output_type": "stream",
     "text": [
      "523.3333333333334\n"
     ]
    }
   ],
   "source": [
    "r = 5\n",
    "pi = 3.14\n",
    "\n",
    "Volume = (4/3)*pi*(r**3)\n",
    "print(Volume)"
   ]
  },
  {
   "cell_type": "markdown",
   "metadata": {},
   "source": [
    "Suppose the cover price of a book is \\$24.95, but bookstores get a 40% discount. Shipping costs \\$3 for the first copy and 75 cents for each additional copy. What is the total wholesale cost for 60 copies?"
   ]
  },
  {
   "cell_type": "code",
   "execution_count": 11,
   "metadata": {
    "collapsed": false
   },
   "outputs": [
    {
     "name": "stdout",
     "output_type": "stream",
     "text": [
      "$ 57.980000000000004\n"
     ]
    }
   ],
   "source": [
    "shipping = 3+(60*.75)\n",
    "books = 24.95*.4\n",
    "\n",
    "total = books+shipping\n",
    "\n",
    "print('$',total)"
   ]
  },
  {
   "cell_type": "markdown",
   "metadata": {},
   "source": [
    "If I leave my house at 6:52 am and run 1 mile at an easy pace (8:15 per mile), then 3 miles at tempo (7:12 per mile) and 1 mile at easy pace again, what time do I get home for breakfast? "
   ]
  },
  {
   "cell_type": "code",
   "execution_count": 20,
   "metadata": {
    "collapsed": false
   },
   "outputs": [
    {
     "name": "stdout",
     "output_type": "stream",
     "text": [
      "7 : 30 : 6\n"
     ]
    }
   ],
   "source": [
    "starthr = 6\n",
    "startmin = 52\n",
    "\n",
    "ep = (8*60)+15 #easypace in seconds int\n",
    "tempo = (7*60)+12 #at tempo in seconds int\n",
    "\n",
    "timesec = (2*ep)+(3*tempo)\n",
    "\n",
    "min1 = round(timesec/60) #int\n",
    "min2 = timesec/60.0 #float\n",
    "\n",
    "sec = (min2-min1)*60\n",
    "\n",
    "endmin = min1-(60-startmin)\n",
    "endhr = starthr + 1\n",
    "endsec = round(sec)\n",
    "\n",
    "print(endhr, ':', endmin, ':',endsec)\n"
   ]
  },
  {
   "cell_type": "markdown",
   "metadata": {},
   "source": []
  },
  {
   "cell_type": "markdown",
   "metadata": {},
   "source": [
    "## Chapter 3\n",
    "\n",
    "### 3.1 Function Calls. \n",
    "\n",
    "The **Name** of a function is a **type**. The expression in the **()** is the **argument**\n",
    "\n",
    "The result is the **return value**\n",
    "\n",
    "### 3.2 Math Functions\n",
    "\n",
    "A **Module** is a file that contains a collection of related functions. \n",
    "\n",
    "Before we can use the functions in a module, we have to import it with an **import statement**\n",
    "\n",
    "To access one of the functions, you must specify the name of the module AND the name of the function seperated by a . This is **Dot Notation**\n",
    "\n",
    "### 3.3 Composition\n",
    "\n",
    "You can compose functions anywhere. The argument of the function can be any kind of expression. \n",
    "\n",
    "### 3.4 Adding New Functions\n",
    "\n",
    "A **Function Deffinition** specifies the name of a new function. **def** is used to show that you are defining a new function\n",
    "\n",
    "A **Header** is the first line in a function. In python the header goes `def functionname(argument,argument):`\n",
    "\n",
    "The **Body** is the rest of the function.\n",
    "\n",
    "To ** End** a function, enter an empty line. \n",
    "\n",
    "Defining a function creates a **function object** which has a type function. if you type(function) it will return class'function'\n",
    "\n",
    "### 3.6 The flow of execution. \n",
    "\n",
    "To ensure that a function is always defined before its first use, you have to know the order statments run in aka the **flow of Execution**\n",
    "\n",
    "The execution always begins at the first statement then it goes on one at a time to the bottom. Functions also do not run until they are called\n",
    "\n",
    "A function acts as a detour momentarily rerounting the flow of execution. \n",
    "\n",
    "### 3.7 Parameters and arguments\n",
    "\n",
    "Arguments are assigned to input variables called parameters. A function looks for the input with that name.\n",
    "\n",
    "The Argument is evaluated before the function is called so if you put something in the argument, like math, the math will be done before the input parameter is passed into the function. \n"
   ]
  },
  {
   "cell_type": "markdown",
   "metadata": {},
   "source": [
    "### Exercise 3.1\n",
    "\n",
    "Write a function named `right_justify` that takes a string named s as a parameter and prints the string with enough leading spaces so that the last letter of the string is in column 70 of the display.\n",
    "\n",
    "```\n",
    ">>> right_justify('monty')\n",
    "                                                                 monty\n",
    "```\n",
    "Hint: Use string concatenation and repetition. Also, Python provides a built-in function called `len` that returns the length of a string, so the value of `len('monty')` is 5."
   ]
  },
  {
   "cell_type": "code",
   "execution_count": 25,
   "metadata": {
    "collapsed": false
   },
   "outputs": [
    {
     "name": "stdout",
     "output_type": "stream",
     "text": [
      "                                                                     monty\n"
     ]
    }
   ],
   "source": [
    "def right_justify(s):\n",
    "    space = ' '\n",
    "    string_length = len('s')\n",
    "    numspace = 70 - string_length\n",
    "    blankspace = space*numspace\n",
    "    print(blankspace+s)\n",
    "    \n",
    "right_justify('monty')    \n",
    "    "
   ]
  },
  {
   "cell_type": "markdown",
   "metadata": {},
   "source": [
    "### Exercise 3.3\n",
    "\n",
    "Note: This exercise should be done using only the statements and other features we have learned so far.\n",
    "\n",
    "1\\. Write a function that draws a grid like the following:\n",
    "\n",
    "```\n",
    "+ - - - - + - - - - +\n",
    "|         |         |\n",
    "|         |         |\n",
    "|         |         |\n",
    "|         |         |\n",
    "+ - - - - + - - - - +\n",
    "|         |         |\n",
    "|         |         |\n",
    "|         |         |\n",
    "|         |         |\n",
    "+ - - - - + - - - - +\n",
    "```\n",
    "Note: There are four empty spaces between the vertical bars.\n",
    "\n",
    "To print more than one value on a line, you can print a comma-separated sequence of values:\n",
    "\n",
    "```\n",
    "print('+', '-')\n",
    "```\n",
    "\n",
    "By default, `print` advances to the next line, but you can override that behavior and put a space at the end, like this:\n",
    "\n",
    "```\n",
    "print('+', end=' ')\n",
    "print('-')\n",
    "```\n",
    "\n",
    "The output of these statements is '+ -'.\n",
    "\n",
    "A `print` statement with no argument ends the current line and goes to the next line."
   ]
  },
  {
   "cell_type": "code",
   "execution_count": 30,
   "metadata": {
    "collapsed": false
   },
   "outputs": [
    {
     "name": "stdout",
     "output_type": "stream",
     "text": [
      "+ - - - - + - - - - +\n",
      "|         |         |\n",
      "|         |         |\n",
      "|         |         |\n",
      "|         |         |\n",
      "+ - - - - + - - - - +\n",
      "|         |         |\n",
      "|         |         |\n",
      "|         |         |\n",
      "|         |         |\n",
      "+ - - - - + - - - - +\n"
     ]
    }
   ],
   "source": [
    "def gridfunct():\n",
    "    PatternA = ('+ ')+('- '*4)+('+ ')+('- '*4)+('+')\n",
    "    PatternB = ('|')+(' '*9)+('|')+(' '*9)+('|')\n",
    "    print(PatternA)\n",
    "    print(PatternB)\n",
    "    print(PatternB)\n",
    "    print(PatternB)\n",
    "    print(PatternB)\n",
    "    print(PatternA)\n",
    "    print(PatternB)\n",
    "    print(PatternB)\n",
    "    print(PatternB)\n",
    "    print(PatternB)\n",
    "    print(PatternA)\n",
    "    \n",
    "gridfunct()"
   ]
  },
  {
   "cell_type": "markdown",
   "metadata": {},
   "source": [
    "2\\. Write a function that draws a similar grid with four rows and four columns."
   ]
  },
  {
   "cell_type": "code",
   "execution_count": 32,
   "metadata": {
    "collapsed": false
   },
   "outputs": [
    {
     "name": "stdout",
     "output_type": "stream",
     "text": [
      "+ - - - - + - - - - +- - - - + - - - - +\n",
      "|         |         |         |         |\n",
      "|         |         |         |         |\n",
      "|         |         |         |         |\n",
      "|         |         |         |         |\n",
      "+ - - - - + - - - - +- - - - + - - - - +\n",
      "|         |         |         |         |\n",
      "|         |         |         |         |\n",
      "|         |         |         |         |\n",
      "|         |         |         |         |\n",
      "+ - - - - + - - - - +- - - - + - - - - +\n",
      "|         |         |         |         |\n",
      "|         |         |         |         |\n",
      "|         |         |         |         |\n",
      "|         |         |         |         |\n",
      "+ - - - - + - - - - +- - - - + - - - - +\n",
      "|         |         |         |         |\n",
      "|         |         |         |         |\n",
      "|         |         |         |         |\n",
      "|         |         |         |         |\n",
      "+ - - - - + - - - - +- - - - + - - - - +\n"
     ]
    }
   ],
   "source": [
    "def gridfunct():\n",
    "    PatternA = ('+ ')+('- '*4)+('+ ')+('- '*4)+('+')+('- '*4)+('+ ')+('- '*4)+('+')\n",
    "    PatternB = ('|')+(' '*9)+('|')+(' '*9)+('|')+(' '*9)+('|')+(' '*9)+('|')\n",
    "    print(PatternA)\n",
    "    print(PatternB)\n",
    "    print(PatternB)\n",
    "    print(PatternB)\n",
    "    print(PatternB)\n",
    "    print(PatternA)\n",
    "    print(PatternB)\n",
    "    print(PatternB)\n",
    "    print(PatternB)\n",
    "    print(PatternB)\n",
    "    print(PatternA)\n",
    "    print(PatternB)\n",
    "    print(PatternB)\n",
    "    print(PatternB)\n",
    "    print(PatternB)\n",
    "    print(PatternA)\n",
    "    print(PatternB)\n",
    "    print(PatternB)\n",
    "    print(PatternB)\n",
    "    print(PatternB)\n",
    "    print(PatternA)\n",
    "    \n",
    "gridfunct()"
   ]
  },
  {
   "cell_type": "markdown",
   "metadata": {},
   "source": [
    "## Chapter 5.1 - 5.7\n",
    "\n",
    "### 5.1 Floor Division and Modulus. \n",
    "\n",
    "The **Floor Division** opperator **//** divides two numbers and rounds **down** to an integer. \n",
    "\n",
    "The **Modulus opperator** is **%**. It gives the remainder. \n",
    "\n",
    "### 5.2 Boolean Expressions\n",
    "\n",
    "**Boolean Expressions** are either **True** or **False**. T\n",
    "\n",
    "There are also relational operators like... \n",
    "+ **!=**: not equal\n",
    "+ **>**: Greater than\n",
    "+ **<**: Less than \n",
    "+ **>=** greater than or equal to\n",
    "+ **<=** less than or equal to\n",
    "+ ** ==** equal to.\n",
    "\n",
    "### 5.3 logical opperaators. \n",
    "\n",
    "**And**\n",
    "\n",
    "**Or**\n",
    "\n",
    "**Not**\n",
    "\n",
    "### 5.5 alterntive exicution\n",
    "\n",
    "if, else statememtns. The alternitives are called branches. \n",
    "\n",
    "### 5.6 Chained Conditionals. \n",
    "\n",
    "else ifs (elif). Each condition is checked in order until one of them is true. If more than one is true, it chooses to run the first true one. \n",
    "\n",
    "### 5.7 Nested conditionals\n",
    "\n",
    "You can nest conditional statememnts. "
   ]
  },
  {
   "cell_type": "markdown",
   "metadata": {},
   "source": [
    "### Exercise 5.2\n",
    "\n",
    "Fermat’s Last Theorem says that there are no positive integers $a$, $b$, and $c$ such that $$a^n + b^n = c^n$$ for any values of $n$ greater than 2.\n",
    "\n",
    "1\\. Write a function named `check_fermat` that takes four parameters – $a$, $b$, $c$ and $n$ – and that checks to see if Fermat’s theorem holds. If n is greater than 2 and it turns out to be true that\n",
    "$a^n + b^n = c^n$, then the program should print: \"Holy smokes, Fermat was wrong!\" Otherwise the program should print: \"No, that doesn’t work.\""
   ]
  },
  {
   "cell_type": "code",
   "execution_count": 2,
   "metadata": {
    "collapsed": true
   },
   "outputs": [],
   "source": [
    "def check_fermat(a,b,c,n):\n",
    "    if (a**n)+(b**n)==(c**n): \n",
    "        if c > 2:\n",
    "            print('Holy smokes, Fermat was Wrong!')\n",
    "        \n",
    "        else:\n",
    "            print('Fermat said this would work')\n",
    "            \n",
    "    else: \n",
    "        print('No, that does not work')\n",
    "            \n"
   ]
  },
  {
   "cell_type": "markdown",
   "metadata": {},
   "source": [
    "2\\. Write a function that prompts the user to input values for $a$, $b$, $c$ and $n$, converts them to integers, and uses `check_fermat` to check whether they violate Fermat’s theorem."
   ]
  },
  {
   "cell_type": "code",
   "execution_count": 1,
   "metadata": {
    "collapsed": false
   },
   "outputs": [],
   "source": [
    "def check_fermat2(a,b,c,n):\n",
    "    \n",
    "    a = a//1\n",
    "    b = b//1\n",
    "    c = c//1\n",
    "    \n",
    "    if (a**n)+(b**n)==(c**n): \n",
    "        if c > 2:\n",
    "            print('Holy smokes, Fermat was Wrong!')\n",
    "        \n",
    "        else:\n",
    "            print('Fermat said this would work')\n",
    "            \n",
    "    else: \n",
    "        print('No, that does not work')"
   ]
  },
  {
   "cell_type": "markdown",
   "metadata": {},
   "source": [
    "### Exercise 5.3 \n",
    "\n",
    "If you are given three sticks, you may or may not be able to arrange them in a triangle. For example, if one of the sticks is 12 inches long and the other two are one inch long, it is clear that you will not be able to get the short sticks to meet in the middle. For any three lengths, there is a simple test to see if it is possible to form a triangle:\n",
    "> If any of the three lengths is greater than the sum of the other two, then you cannot form a triangle. Otherwise, you can. (If the sum of two lengths equals the third, they form what is called a “degenerate” triangle.)\n",
    "\n",
    "1\\. Write a function named `is_triangle` that takes three integers as arguments, and that prints either \"Yes\" or \"No,\" depending on whether you can or cannot form a triangle from sticks with the given lengths."
   ]
  },
  {
   "cell_type": "code",
   "execution_count": 5,
   "metadata": {
    "collapsed": false
   },
   "outputs": [
    {
     "name": "stdout",
     "output_type": "stream",
     "text": [
      "No\n",
      "Yes\n",
      "Degenerate\n"
     ]
    }
   ],
   "source": [
    "def is_triangle(a,b,c):\n",
    "    if a+b == c:\n",
    "        print('Degenerate')\n",
    "    elif a+c == b:\n",
    "        print('Degenerate')\n",
    "    elif c+b == a:\n",
    "        print('Degenerate')\n",
    "    elif a+b < c:\n",
    "        print('No')\n",
    "    elif a+c < b:\n",
    "        print('No')\n",
    "    elif b+c < a:\n",
    "        print('No')\n",
    "    else:\n",
    "        print('Yes')\n",
    "        \n",
    "is_triangle(12,2,2)\n",
    "\n",
    "is_triangle(12,12,12)\n",
    "\n",
    "is_triangle(12,6,6)"
   ]
  },
  {
   "cell_type": "markdown",
   "metadata": {},
   "source": [
    "2\\. Write a function that prompts the user to input three stick lengths, converts them to integers, and uses `is_triangle` to check whether sticks with the given lengths can form a triangle."
   ]
  },
  {
   "cell_type": "code",
   "execution_count": 6,
   "metadata": {
    "collapsed": true
   },
   "outputs": [],
   "source": [
    "def is_triangle(a,b,c):\n",
    "    a = a//1\n",
    "    b= b//1\n",
    "    c=c//1\n",
    "    \n",
    "    if a+b == c:\n",
    "        print('Degenerate')\n",
    "    elif a+c == b:\n",
    "        print('Degenerate')\n",
    "    elif c+b == a:\n",
    "        print('Degenerate')\n",
    "    elif a+b < c:\n",
    "        print('No')\n",
    "    elif a+c < b:\n",
    "        print('No')\n",
    "    elif b+c < a:\n",
    "        print('No')\n",
    "    else:\n",
    "        print('Yes')"
   ]
  },
  {
   "cell_type": "markdown",
   "metadata": {},
   "source": [
    "## Quick poll\n",
    "About how long did you spend working on this Reading Journal?\n",
    "\n",
    "A few hours (4is). The material was easy but it was difficult to get used to using Markdown and the actual journal."
   ]
  },
  {
   "cell_type": "markdown",
   "metadata": {},
   "source": []
  },
  {
   "cell_type": "markdown",
   "metadata": {},
   "source": [
    "## Notes for the Instructors\n",
    "\n",
    "Please use the space below to write comments to help us plan the next class session.  For instance, if you want to see us go over an example of a particular type of problem, you can indicate that here.\n",
    "\n",
    "Please remember that the best way to get quick feedback from the instructors as well as your peers, is to use Piazza.  However, consider using this channel if it doesn't make sense to post your note to Piazza.\n",
    "\n",
    "\n",
    "I like this reading journal. "
   ]
  },
  {
   "cell_type": "markdown",
   "metadata": {},
   "source": []
  }
 ],
 "metadata": {
  "kernelspec": {
   "display_name": "Python 3",
   "language": "python",
   "name": "python3"
  },
  "language_info": {
   "codemirror_mode": {
    "name": "ipython",
    "version": 3
   },
   "file_extension": ".py",
   "mimetype": "text/x-python",
   "name": "python",
   "nbconvert_exporter": "python",
   "pygments_lexer": "ipython3",
   "version": "3.4.3"
  }
 },
 "nbformat": 4,
 "nbformat_minor": 0
}
