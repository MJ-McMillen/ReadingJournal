{
 "cells": [
  {
   "cell_type": "markdown",
   "metadata": {},
   "source": [
    "# Day 3 Reading Journal\n",
    "\n",
    "This journal includes several required exercises, but it is meant to encourage active reading more generally.  You should use the journal to take detailed notes, catalog questions, and explore the content from Think Python deeply.\n",
    "\n",
    "Reading: Think Python Chapter 8, 10.1-10.6\n",
    "\n",
    "**Due: Thursday, January 26 at noon**\n",
    "\n"
   ]
  },
  {
   "cell_type": "markdown",
   "metadata": {},
   "source": [
    "## [Chapter 8](http://www.greenteapress.com/thinkpython2/html/thinkpython2009.html)\n",
    "\n",
    "Note: the exercise numbers below match up with the reading for ease of cross referencing.\n",
    "\n",
    "### 8.1 A sttring sequence.\n",
    "\n",
    "A **String Sequence** is a sequence of characters. They can be accessed one at a time with brackets\n",
    "```\n",
    "    >>> fruit = 'bannana' \n",
    "    >>> fruit[1]\n",
    "        < 'a'>\n",
    "```\n",
    "Strings are zero indexed. When the fruit[1] is called it yeilds A not B because B is the 0th letter not the 1st\n",
    "\n",
    "Value of an index must be an int\n",
    "\n",
    "### 8.2 Len \n",
    "\n",
    "The **len** built in function returns the number of characters in a string. The length will always be one more than the index. \n",
    "\n",
    "You can also use **negitive indices** which will count backwards from the end of the string\n",
    "\n",
    "### 8.3 Traversal with a for loop \n",
    "\n",
    "A **Traversal Process** is when a for or while loop goes through a string character by character then does something with the individiual string elements \n",
    "\n",
    "Can be written with a for or a while loop but its kinda better to write it with for loops.\n",
    "\n",
    "### 8.4 String Slices\n",
    "\n",
    "A segment of a string is called a **slice**\n",
    "\n",
    "Selecting a slice is similar to selecting a character. \n",
    "\n",
    "The opperator `[n:m]` returns the part of the string from the nth character until the mth character it **includes** the nth character and **excludes** the mth character\n",
    "\n",
    "The indicese point between the characters. \n",
    "\n",
    "### 8.5 Strings are immutable \n",
    "\n",
    "You cannot use the [] operator on the left side of an assignment with the intention of changeing a character in a string. \n",
    "\n",
    "Strings are **immutable** which means you cannot change an exsisting string. The best you can do is create a new string that is a variation on the original \n",
    "\n",
    "### 8.6 Searching \n",
    "\n",
    "The **find** opperator is a thing. \n",
    "\n",
    "### 8.7 Looping and Counting \n",
    "\n",
    "A **counter** is a variable initialized at 0 then is incremented each time a loop goes around. Counts can be very useful. \n",
    "\n",
    "### 8.8 String Methods\n",
    "\n",
    "Strings provide methods that perform a variety of useful operations a method is similar to a function. It takes arguments and returns a value but the syntax is different \n",
    "\n",
    "Instead of the function syntax upper() the uppercase function has the syntac stringname.upper()\n",
    "\n",
    "This method is called invocation. I am invoking upper on a word. \n",
    "\n",
    "find also uses this notation\n",
    "\n",
    "### 8.9 The in operator. \n",
    "\n",
    "The word **in** is a boolean operator that takes two strings and returns `true` if the first appears as a substring in the second. ex:\n",
    "\n",
    "```\n",
    ">>> 'a' in 'bannana'\n",
    "True\n",
    ">>> 'seed' in 'bannana'\n",
    "False\n",
    "```\n",
    "### 8.10 String Comparision\n",
    "\n",
    "The relational operators work on strings. To see if two strings are equal...\n",
    "\n",
    "```\n",
    "if word == 'banana':\n",
    "    print('All right, bananas.')\n",
    "```\n",
    "Other relational opperations are useful. \n",
    "\n",
    "Python handles uppercase and lowecase letters differently than humans. In python all the uppercase letters come before all the lowercase letters so 'Z' comes before 'a' according to Python \n",
    "\n"
   ]
  },
  {
   "cell_type": "markdown",
   "metadata": {},
   "source": [
    "### Chapter 8.3  \n",
    "\n",
    "Write a function that takes a string as an argument and displays the letters backward, one per line."
   ]
  },
  {
   "cell_type": "code",
   "execution_count": 23,
   "metadata": {
    "collapsed": false
   },
   "outputs": [
    {
     "name": "stdout",
     "output_type": "stream",
     "text": [
      "t\n",
      "o\n",
      "p\n",
      "a\n",
      "e\n",
      "t\n"
     ]
    }
   ],
   "source": [
    "def backwards(word):\n",
    "    wordback = word[::-1]\n",
    "    for c in wordback:\n",
    "        print(c)\n",
    "        \n",
    "backwards('teapot')"
   ]
  },
  {
   "cell_type": "markdown",
   "metadata": {},
   "source": [
    "**Challenge (optional):** Write a function that translates words into [Pig Latin](https://en.wikipedia.org/wiki/Pig_Latin). \n",
    "\n",
    "**Challenge to the challenge**: Write a function that translates back into English."
   ]
  },
  {
   "cell_type": "code",
   "execution_count": 24,
   "metadata": {
    "collapsed": false
   },
   "outputs": [
    {
     "name": "stdout",
     "output_type": "stream",
     "text": [
      "enryhay\n"
     ]
    },
    {
     "data": {
      "text/plain": [
       "'henry'"
      ]
     },
     "execution_count": 24,
     "metadata": {},
     "output_type": "execute_result"
    }
   ],
   "source": [
    "def pig_latin(word):\n",
    "    \"\"\"\n",
    "    Return given 'word' translated into Pig Latin\n",
    "    \n",
    "    >>> pig_latin(\"software\")\n",
    "    'oftwaresay'\n",
    "    \"\"\"\n",
    "    piggy = word[1:]+word[0] +'ay'\n",
    "    return piggy\n",
    "    pass #TODO: Implement me\n",
    "\n",
    "# If you'd like to actually run the doctests here, you can uncomment the lines below.\n",
    "# We use this slightly more complex method to test only the pig_latin function, without running tests on any other functions that may be in this notebook.\n",
    "#import doctest\n",
    "#doctest.run_docstring_examples(pig_latin, globals())\n",
    "def reverse_pig_latin(word):\n",
    "    unpiggy = word[-3]+word[0:-3]\n",
    "    return unpiggy\n",
    "\n",
    "piggified = pig_latin('henry')\n",
    "print(piggified)\n",
    "reverse_pig_latin(piggified)\n"
   ]
  },
  {
   "cell_type": "markdown",
   "metadata": {},
   "source": [
    "### Chapter 8.7\n",
    "Encapsulate the character counting code in a fruitful function named `count` that accepts the string and the letter as arguments and returns the count."
   ]
  },
  {
   "cell_type": "code",
   "execution_count": 25,
   "metadata": {
    "collapsed": false
   },
   "outputs": [
    {
     "data": {
      "text/plain": [
       "1"
      ]
     },
     "execution_count": 25,
     "metadata": {},
     "output_type": "execute_result"
    }
   ],
   "source": [
    "def countme(word,letter):\n",
    "    return word.count(letter)\n",
    "\n",
    "countme('countme', 'e')"
   ]
  },
  {
   "cell_type": "markdown",
   "metadata": {},
   "source": [
    "### Exercise 8.1\n",
    "Skim the documentation of the Python [string methods](http://docs.python.org/3/library/stdtypes.html#string-methods). Play with them to make sure you understand how they work-- strip, replace, and upper/lower are particularly useful. Show us some of your experiments."
   ]
  },
  {
   "cell_type": "code",
   "execution_count": null,
   "metadata": {
    "collapsed": true
   },
   "outputs": [],
   "source": []
  },
  {
   "cell_type": "markdown",
   "metadata": {},
   "source": [
    "### Exercise 8.4  \n",
    "\n",
    "The following functions are all intended to check whether a string contains any lowercase letters, but at least some of them are wrong. For each function, describe what the function actually does (assuming that the parameter is a string)."
   ]
  },
  {
   "cell_type": "code",
   "execution_count": 26,
   "metadata": {
    "collapsed": false
   },
   "outputs": [
    {
     "data": {
      "text/plain": [
       "False"
      ]
     },
     "execution_count": 26,
     "metadata": {},
     "output_type": "execute_result"
    }
   ],
   "source": [
    "def any_lowercase1(s):\n",
    "    for c in s:\n",
    "        if c.islower():\n",
    "            return True\n",
    "    return False\n",
    "        \n",
    "any_lowercase1('TABLE')"
   ]
  },
  {
   "cell_type": "markdown",
   "metadata": {},
   "source": []
  },
  {
   "cell_type": "markdown",
   "metadata": {},
   "source": [
    " "
   ]
  },
  {
   "cell_type": "code",
   "execution_count": 27,
   "metadata": {
    "collapsed": true
   },
   "outputs": [],
   "source": [
    "def any_lowercase2(s):\n",
    "    for c in s:\n",
    "        if c.islower():\n",
    "            return 'True'\n",
    "    return 'False'"
   ]
  },
  {
   "cell_type": "markdown",
   "metadata": {},
   "source": []
  },
  {
   "cell_type": "markdown",
   "metadata": {},
   "source": [
    " "
   ]
  },
  {
   "cell_type": "code",
   "execution_count": 28,
   "metadata": {
    "collapsed": false
   },
   "outputs": [
    {
     "data": {
      "text/plain": [
       "False"
      ]
     },
     "execution_count": 28,
     "metadata": {},
     "output_type": "execute_result"
    }
   ],
   "source": [
    "def any_lowercase3(s):\n",
    "    for c in s:\n",
    "        flag=c.islower()\n",
    "    return flag\n",
    "any_lowercase3('TU')"
   ]
  },
  {
   "cell_type": "markdown",
   "metadata": {},
   "source": []
  },
  {
   "cell_type": "markdown",
   "metadata": {},
   "source": [
    " "
   ]
  },
  {
   "cell_type": "code",
   "execution_count": 29,
   "metadata": {
    "collapsed": true
   },
   "outputs": [],
   "source": [
    "def any_lowercase4(s):\n",
    "    for c in s:\n",
    "        flag = c.islower()\n",
    "    return flag"
   ]
  },
  {
   "cell_type": "markdown",
   "metadata": {},
   "source": []
  },
  {
   "cell_type": "markdown",
   "metadata": {},
   "source": [
    " "
   ]
  },
  {
   "cell_type": "code",
   "execution_count": 30,
   "metadata": {
    "collapsed": false
   },
   "outputs": [
    {
     "data": {
      "text/plain": [
       "True"
      ]
     },
     "execution_count": 30,
     "metadata": {},
     "output_type": "execute_result"
    }
   ],
   "source": [
    "def any_lowercase5(s):\n",
    "    for c in s:\n",
    "        if c.islower():\n",
    "            return True\n",
    "    return False\n",
    "\n",
    "any_lowercase5('TURNiP')"
   ]
  },
  {
   "cell_type": "markdown",
   "metadata": {},
   "source": []
  },
  {
   "cell_type": "markdown",
   "metadata": {},
   "source": [
    " "
   ]
  },
  {
   "cell_type": "markdown",
   "metadata": {},
   "source": [
    "## [Chapter 10.1 - 10.6](http://www.greenteapress.com/thinkpython2/html/thinkpython2011.html)\n",
    "\n",
    "You may want to review [state diagrams in Chapter 2](http://www.greenteapress.com/thinkpython2/html/thinkpython2003.html#toc13).\n",
    "\n",
    "### 10.1 A list is a sequence\n",
    "\n",
    "Like a string, a **list** is a sequence of values in a string the values are characters; in a list they can be any type. \n",
    "\n",
    "**Elements** or **items** are values in a list. \n",
    "\n",
    "There are several ways to create a new list; the simplest is to enclose the elements in square brackets Lists can be interagers or strings. The list elements have comas between them. The items in a list do not all have to be the same type; \n",
    "\n",
    "You can list lists within lists. You can also assign lists to variables. \n",
    "\n",
    "### 10.2 Lists are Mutable\n",
    "\n",
    "The Syntax for accessing the elements of a list is the same as for accessing characters in a string []. The indices still start at 0\n",
    "\n",
    "Unlike strings, lists are mutable. When the bracket operator appears on the left side of an assignment, it identifies the element of the list that will be assigned.  \n",
    "\n",
    "You can change lists without reassigning. \n",
    "Any integer expression can be used as an index. No decimal index or index error\n",
    "If an index has a negitive value it counts backwards\n",
    "\n",
    "Basically like strings but can contain more than just characters and are rewriteable\n",
    "\n",
    "### 10.3 Transversing a list. \n",
    "\n",
    "Syntax for transversing a list is the same as strings. \n",
    "\n",
    "A for loop over an empty list never runs. \n",
    "\n",
    "Though a list can be inside a list, the elements inside nested lists count as one element. \n",
    "\n",
    "### 10.4 List operators\n",
    "\n",
    "+ The + oprtator concats lists\n",
    "+ The * operator repeats lists. \n",
    "Just like with strings\n",
    "\n",
    "### 10.5 List slices\n",
    "\n",
    "The slice opperarot also works with lists. If you just have a [:] it will copy the list. this can be helpful because it is good to copy a list before you change it \n",
    "\n",
    "### 10.6 List Methods. \n",
    "You can use the same invocation method as strings to opperato on lists. \n",
    "ex `listA.append('t')` will add `'t'` to the end of listA. \n",
    "sort aranges the elements of a list from low to high. \n"
   ]
  },
  {
   "cell_type": "markdown",
   "metadata": {},
   "source": [
    "**Quick check:** What type of items can be placed in a list?"
   ]
  },
  {
   "cell_type": "markdown",
   "metadata": {},
   "source": [
    "Any Items"
   ]
  },
  {
   "cell_type": "markdown",
   "metadata": {},
   "source": [
    "**Quick check:** Give at least one similarity and one difference between lists and strings."
   ]
  },
  {
   "cell_type": "markdown",
   "metadata": {},
   "source": [
    "Similarity: The + operator concats both lists and strings\n",
    "\n",
    "\n",
    "Difference: Lists are muteable strings are not "
   ]
  },
  {
   "cell_type": "markdown",
   "metadata": {},
   "source": [
    "### Exercise\n",
    "\n",
    "Write a Python function named `average` that takes a list of numbers and returns their arithmetic mean."
   ]
  },
  {
   "cell_type": "code",
   "execution_count": 31,
   "metadata": {
    "collapsed": true
   },
   "outputs": [],
   "source": [
    "def average(num):\n",
    "    summy = 0\n",
    "    for n in num:\n",
    "        summy = summy + n\n",
    "    average = summy / (len(num))\n",
    "    return average"
   ]
  },
  {
   "cell_type": "markdown",
   "metadata": {},
   "source": [
    "### Exercise\n",
    "You own a restaurant, and you need to keep up with the latest food fads or risk losing your fickle customers. You decide to write a Python function that adds the hot new ingredient _du jour_ to each of your regular menu items and returns the trendy new menu."
   ]
  },
  {
   "cell_type": "code",
   "execution_count": 32,
   "metadata": {
    "collapsed": false
   },
   "outputs": [
    {
     "data": {
      "text/plain": [
       "['Orange Juice with Toothpaste',\n",
       " 'Potato Chips with Toothpaste',\n",
       " 'Diet Coke with Toothpaste',\n",
       " 'Actual Coke with Toothpaste']"
      ]
     },
     "execution_count": 32,
     "metadata": {},
     "output_type": "execute_result"
    }
   ],
   "source": [
    "def add_ingredient(menu, ingredient):\n",
    "    \"\"\"\n",
    "    Given a list of string 'menu' items and a trendy 'ingredient' string of the day,\n",
    "    return a new menu list of strings with the ingredient added to each.\n",
    "    \n",
    "    >>> add_ingredient([\"burger\", \"salad\", \"ice cream\"], \"kale\")\n",
    "    ['burger with kale', 'salad with kale', 'ice cream with kale']\n",
    "    \n",
    "    \"\"\"\n",
    "    return [item + ' with ' +ingredient for item in menu]\n",
    "    pass    # TODO: Implement me\n",
    "\n",
    "# Running doctests in jupyter notebook:\n",
    "# If you'd like to actually run the doctests here, you can uncomment the lines below.\n",
    "# We use this slightly more complex method to test only the add_ingredient function,\n",
    "# without running tests on any other functions that may be in this notebook.\n",
    "\n",
    "#import doctest\n",
    "#doctest.run_docstring_examples(add_ingredient, globals(), verbose=True)  \n",
    "\n",
    "\n",
    "add_ingredient(['Orange Juice', 'Potato Chips', 'Diet Coke', 'Actual Coke'], 'Toothpaste')"
   ]
  },
  {
   "cell_type": "markdown",
   "metadata": {},
   "source": [
    "## Quick poll\n",
    "About how long did you spend working on this reading journal?"
   ]
  },
  {
   "cell_type": "markdown",
   "metadata": {},
   "source": [
    "3 hrs\n"
   ]
  },
  {
   "cell_type": "markdown",
   "metadata": {},
   "source": [
    "## Reading Journal feedback\n",
    "\n",
    "Have any comments on this Reading Journal? Feel free to leave them below and we'll read them when you submit your journal entry. This could include suggestions to improve the exercises, topics you'd like to see covered in class next time, or other feedback.\n",
    "\n",
    "If you have Python questions or run into problems while completing the reading, you should post them to Piazza instead so you can get a quick response before your journal is submitted."
   ]
  },
  {
   "cell_type": "markdown",
   "metadata": {},
   "source": []
  },
  {
   "cell_type": "markdown",
   "metadata": {},
   "source": [
    " "
   ]
  }
 ],
 "metadata": {
  "kernelspec": {
   "display_name": "Python 3",
   "language": "python",
   "name": "python3"
  },
  "language_info": {
   "codemirror_mode": {
    "name": "ipython",
    "version": 3
   },
   "file_extension": ".py",
   "mimetype": "text/x-python",
   "name": "python",
   "nbconvert_exporter": "python",
   "pygments_lexer": "ipython3",
   "version": "3.4.3"
  }
 },
 "nbformat": 4,
 "nbformat_minor": 0
}
