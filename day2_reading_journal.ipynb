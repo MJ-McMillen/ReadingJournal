{
 "cells": [
  {
   "cell_type": "markdown",
   "metadata": {},
   "source": [
    "# Day 2 Reading Journal\n",
    "\n",
    "This journal includes several required exercises, but it is meant to encourage active reading more generally.  You should use the journal to take detailed notes, catalog questions, and explore the content from Think Python deeply.\n",
    "\n",
    "Reading: Think Python Chapter 6.1-6.4, 7\n",
    "\n",
    "**Due: Tuesday, January 24 at 12 noon**\n",
    "\n"
   ]
  },
  {
   "cell_type": "markdown",
   "metadata": {},
   "source": [
    "## [Chapter 6.1-6.4](http://greenteapress.com/thinkpython2/html/thinkpython2007.html)\n",
    "\n",
    "Note: the exercise numbers below match up with the reading for ease of\n",
    "cross referencing.\n",
    "\n",
    "### 6.1 Return Values\n",
    "\n",
    "Calling a **fruitful function** produces a return value\n",
    "\n",
    "Calling a **void function** produces no return value/ NONE is their return. \n",
    "\n",
    "As soon as a **return statememnt** runs, the funciton is terminated without executing any subsequent statement. Any place after a return statement is called **dead code**\n",
    "\n",
    "Its a good idea in a fruitful function to have every possible path end in a return.\n",
    "\n",
    "### 6.2 Incremental development. \n",
    "\n",
    "**Incremental development** avoids long debugging by adding small bits of code each time and testing them along the way. \n",
    "\n",
    "**Print** statements are useful in debugging to check what is happening within a funciton along the way. \n",
    "\n",
    "### 6.3 Composition. \n",
    "\n",
    "You can call one function from within another. \n",
    "\n",
    "### 6.4 Boolean functions. \n",
    "\n",
    "Functions can return booleans, which is often convinent for hiding complicated tests in side finctions. \n",
    "\n",
    "### 6.5 Recursive functions\n",
    "\n",
    "you can recurse functions. \n",
    "\n",
    "### 6.6 Leap of faith. \n",
    "\n",
    "when you come to a function call, instead of following the flow of execution, assume that the function works correctly and returns the right result. \n",
    "\n",
    "The same is true of recursive functions. \n",
    "\n",
    "We already do this with built in functions. "
   ]
  },
  {
   "cell_type": "markdown",
   "metadata": {},
   "source": [
    "**Quick check:** What is a _fruitful function_?"
   ]
  },
  {
   "cell_type": "markdown",
   "metadata": {},
   "source": [
    " A function that returns something. "
   ]
  },
  {
   "cell_type": "markdown",
   "metadata": {},
   "source": [
    "### Chapter 6.1 \n",
    "Write a `compare` function that returns `1` if `x > y`, `0` if `x == y`, and `-1` if `x < y`."
   ]
  },
  {
   "cell_type": "code",
   "execution_count": 1,
   "metadata": {
    "collapsed": false
   },
   "outputs": [],
   "source": [
    "def comparefunction(x,y):\n",
    "    if x>y:\n",
    "        return 0\n",
    "    elif y==x:\n",
    "        return 1\n",
    "    elif y>x:\n",
    "        return -1\n",
    "    \n"
   ]
  },
  {
   "cell_type": "markdown",
   "metadata": {},
   "source": [
    "**Quick check:** Modify the `absolute_value` function so that it returns the correct result for all integer inputs."
   ]
  },
  {
   "cell_type": "code",
   "execution_count": 4,
   "metadata": {
    "collapsed": false
   },
   "outputs": [],
   "source": [
    "def absolute_value(x):\n",
    "    if x < 0:\n",
    "        return -x\n",
    "    elif x >= 0:\n",
    "        return x"
   ]
  },
  {
   "cell_type": "markdown",
   "metadata": {},
   "source": [
    "### Chapter 6.2 \n",
    "Use incremental development to write a function called `hypotenuse` that returns the length of the hypotenuse of a right triangle given the lengths of the two legs as arguments. Record each stage of the development process as you go, using as many cells as you need."
   ]
  },
  {
   "cell_type": "code",
   "execution_count": 2,
   "metadata": {
    "collapsed": true
   },
   "outputs": [],
   "source": [
    "def hypotenuse(a,b):\n",
    "    asqu = a*a\n",
    "    bsqu = b*b\n",
    "    csqu = asqu+bsqu\n",
    "    c = csqu**0.5\n",
    "    return c\n",
    "\n"
   ]
  },
  {
   "cell_type": "markdown",
   "metadata": {},
   "source": [
    "### Chapter 6.4\n",
    "Write a function `is_between(x, y, z)` that returns `True` if `x ≤ y ≤ z` or `False` otherwise."
   ]
  },
  {
   "cell_type": "code",
   "execution_count": 3,
   "metadata": {
    "collapsed": false
   },
   "outputs": [],
   "source": [
    "def is_between(x,y,z):\n",
    "    if x <= y and y <= z:\n",
    "        return True\n",
    "    else:\n",
    "        return False \n"
   ]
  },
  {
   "cell_type": "markdown",
   "metadata": {},
   "source": [
    "## [Chapter 7](http://greenteapress.com/thinkpython2/html/thinkpython2008.html)\n",
    "\n",
    "\n",
    "### 7.1 Reassignment\n",
    "\n",
    "Variables can be **Reassigned** to new values. \n",
    "\n",
    "### 7.2 Updating Variables. \n",
    "\n",
    "A common kind of reassignment is and **Update** where the new value of a variable depends upon the old. *ex:* `>>> x = x+1`\n",
    "\n",
    "BUT, you must define the variable before you can update it. \n",
    "\n",
    "An **increment** is when you update the variable by adding \n",
    "A **decrement** is when you are subtracting. \n",
    "\n",
    "### 7.3 The While Statemnt\n",
    "\n",
    "**While** statements induce itteration. While statement determine whether the condition is true or false. If condition is false, it exits the loop, if it is true, it continues. \n",
    "\n",
    "An **infinite loop** is a while loop that cannot be exited. \n",
    "\n",
    "\n",
    "### 7.4 Break\n",
    "\n",
    "A **Break** can break you out of the loop midway through the body. It is useful for exiting while loops midway.\n",
    "\n",
    "### 7.5 Estimating square roots. \n",
    "\n",
    "You can use loops to estimate square roots. Its really cool "
   ]
  },
  {
   "cell_type": "markdown",
   "metadata": {},
   "source": [
    "**Quick check:** How do you test for equality in Python?"
   ]
  },
  {
   "cell_type": "markdown",
   "metadata": {},
   "source": [
    "== "
   ]
  },
  {
   "cell_type": "markdown",
   "metadata": {},
   "source": [
    "**Challenge:** Prove/disprove the Collatz conjecture :)"
   ]
  },
  {
   "cell_type": "markdown",
   "metadata": {},
   "source": [
    "Uhhh... no"
   ]
  },
  {
   "cell_type": "markdown",
   "metadata": {},
   "source": [
    "### Chapter 7.5\n",
    "Encapsulate the loop from Section 7.5 in a function called `square_root` that takes `a` as a parameter, chooses a reasonable value of `x`, and returns an estimate of the square root of `a`."
   ]
  },
  {
   "cell_type": "code",
   "execution_count": 4,
   "metadata": {
    "collapsed": true
   },
   "outputs": [],
   "source": [
    "def square_root(a):\n",
    "    x = 10 #inital guess.\n",
    "    \n",
    "    while True:\n",
    "        g = (x+a/x)/2\n",
    "        if abs(y-x) < epsilon:\n",
    "            break\n",
    "        x = g\n",
    "    return g\n",
    "\n",
    "        \n",
    "    "
   ]
  },
  {
   "cell_type": "markdown",
   "metadata": {},
   "source": [
    "### Exercise 7.1  \n",
    "To test the square root algorithm you developed in Exercise 2, you could compare it with Python's `math.sqrt` function. Write a function named `test_square_root` that prints a table like this:\n",
    "\n",
    "```python\n",
    "1.0 1.0           1.0           0.0\n",
    "2.0 1.41421356237 1.41421356237 2.22044604925e-16\n",
    "3.0 1.73205080757 1.73205080757 0.0\n",
    "4.0 2.0           2.0           0.0\n",
    "5.0 2.2360679775  2.2360679775  0.0\n",
    "6.0 2.44948974278 2.44948974278 0.0\n",
    "7.0 2.64575131106 2.64575131106 0.0\n",
    "8.0 2.82842712475 2.82842712475 4.4408920985e-16\n",
    "9.0 3.0           3.0           0.0\n",
    "```\n",
    "\n",
    "The first column is a number, `a`; the second column is the square root of a computed with the function from Section 7.5; the third column is the square root computed by `math.sqrt`; the fourth column is the absolute value of the difference between the two estimates."
   ]
  },
  {
   "cell_type": "code",
   "execution_count": 9,
   "metadata": {
    "collapsed": false
   },
   "outputs": [
    {
     "name": "stdout",
     "output_type": "stream",
     "text": [
      "9 3.0 3.0 0.0\n",
      "8 2.8284271247461903 2.8284271247461907 4.440892098500626e-16\n",
      "7 2.6457513110645907 2.6457513110645907 0.0\n",
      "6 2.449489742783178 2.449489742783178 0.0\n",
      "5 2.23606797749979 2.23606797749979 0.0\n",
      "4 2.0 2.0 0.0\n",
      "3 1.7320508075688772 1.7320508075688772 0.0\n",
      "2 1.4142135623730951 1.4142135623730954 2.220446049250313e-16\n",
      "1 1.0 1.0 0.0\n"
     ]
    }
   ],
   "source": [
    "import math\n",
    "def square_root(a):\n",
    "    x = 10 #inital guess.\n",
    "    \n",
    "    while True:\n",
    "        g = (x+a/x)/2\n",
    "        if abs(g-x) < 0.0000001:\n",
    "            break\n",
    "        x = g\n",
    "    return g    \n",
    "\n",
    "def test_square_root (num):\n",
    "    \n",
    "    mathans = math.sqrt(num)\n",
    "    estimat = square_root(num)\n",
    "    diff = abs(mathans-estimat)\n",
    "    \n",
    "    print(num, mathans,estimat,diff)\n",
    "    \n",
    "num = 9\n",
    "while num > 0:\n",
    "    test_square_root(num)\n",
    "    num = num-1\n",
    "    \n",
    "    "
   ]
  },
  {
   "cell_type": "markdown",
   "metadata": {},
   "source": [
    "### Challenge: Exercise 7.3  (optional)\n",
    "The mathematician Srinivasa Ramanujan found an infinite series that can be used to generate a numerical approximation of\n",
    "$\\frac{1}{\\pi}$:\n",
    "\n",
    "$$\\frac{1}{\\pi} = \\frac{2 \\sqrt{2}}{9801} \\sum_{k=0}^{\\infty} \\frac{(4k)! (1103+26390k)}{(k!)^4 396^{4k}}$$\n",
    " \n",
    "Write a function called `estimate_pi` that uses this formula to compute and return an estimate of $\\pi$. It should use a `while` loop to compute terms of the summation until the last term is smaller than `1e-15` (which is Python notation for $10^{−15}$). You can check the result by comparing it to `math.pi`.\n",
    "\n",
    "[Possible solution](http://thinkpython.com/code/pi.py) (give the exercise a try before viewing the solution)"
   ]
  },
  {
   "cell_type": "code",
   "execution_count": null,
   "metadata": {
    "collapsed": true
   },
   "outputs": [],
   "source": []
  },
  {
   "cell_type": "markdown",
   "metadata": {},
   "source": [
    "## Quick poll\n",
    "\n",
    "About how long did you spend working on this Reading Journal?\n",
    "\n",
    "2 Hours"
   ]
  },
  {
   "cell_type": "markdown",
   "metadata": {},
   "source": []
  },
  {
   "cell_type": "markdown",
   "metadata": {},
   "source": [
    "## Reading Journal feedback\n",
    "\n",
    "Have any comments on this Reading Journal? Feel free to leave them below and we'll read them when you submit your journal entry. This could include suggestions to improve the exercises, topics you'd like to see covered in class next time, or other feedback.\n",
    "\n",
    "If you have Python questions or run into problems while completing the reading, you should post them to Piazza instead so you can get a quick response before your journal is submitted."
   ]
  },
  {
   "cell_type": "markdown",
   "metadata": {},
   "source": []
  },
  {
   "cell_type": "markdown",
   "metadata": {},
   "source": [
    " "
   ]
  }
 ],
 "metadata": {
  "kernelspec": {
   "display_name": "Python 3",
   "language": "python",
   "name": "python3"
  },
  "language_info": {
   "codemirror_mode": {
    "name": "ipython",
    "version": 3
   },
   "file_extension": ".py",
   "mimetype": "text/x-python",
   "name": "python",
   "nbconvert_exporter": "python",
   "pygments_lexer": "ipython3",
   "version": "3.4.3"
  }
 },
 "nbformat": 4,
 "nbformat_minor": 0
}
